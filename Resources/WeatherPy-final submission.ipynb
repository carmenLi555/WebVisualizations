{
 "cells": [
  {
   "cell_type": "markdown",
   "metadata": {},
   "source": [
    "# WeatherPy\n",
    "----\n",
    "\n",
    "#### Note\n",
    "* Instructions have been included for each segment. You do not have to follow them exactly, but they are included to help you think through the steps."
   ]
  },
  {
   "cell_type": "markdown",
   "metadata": {
    "scrolled": true
   },
   "source": []
  },
  {
   "cell_type": "code",
   "execution_count": 1,
   "metadata": {},
   "outputs": [],
   "source": [
    "\n",
    "# Dependencies and Setup\n",
    "import matplotlib.pyplot as plt\n",
    "import pandas as pd\n",
    "import numpy as np\n",
    "import requests\n",
    "import time\n",
    "from api_keys import weather_api_key\n",
    "from scipy.stats import linregress\n",
    "temp_units = \"metric\"\n",
    "\n",
    "# Incorporated citipy to determine city based on latitude and longitude\n",
    "from citipy import citipy\n",
    "\n",
    "query_url = f\"http://api.openweathermap.org/data/2.5/weather?appid={weather_api_key}&units={temp_units}&q=\"\n",
    "\n",
    "# define count of pass throughs\n",
    "count_one = 0\n",
    "set_one = 1"
   ]
  },
  {
   "cell_type": "markdown",
   "metadata": {},
   "source": [
    "## Generate Cities List"
   ]
  },
  {
   "cell_type": "code",
   "execution_count": 2,
   "metadata": {},
   "outputs": [
    {
     "data": {
      "text/plain": [
       "616"
      ]
     },
     "execution_count": 2,
     "metadata": {},
     "output_type": "execute_result"
    }
   ],
   "source": [
    "# List for holding lat_lngs and cities\n",
    "lat_lngs = []\n",
    "cities = []\n",
    "\n",
    "# Create a set of random lat and lng combinations\n",
    "lats = np.random.uniform(low=-90.000, high=90.000, size=1500)\n",
    "lngs = np.random.uniform(low=-180.000, high=180.000, size=1500)\n",
    "lat_lngs = zip(lats, lngs)\n",
    "\n",
    "# Identify nearest city for each lat, lng combination\n",
    "for lat_lng in lat_lngs:\n",
    "    city = citipy.nearest_city(lat_lng[0], lat_lng[1]).city_name\n",
    "    \n",
    "# If the city is unique, then add it to a our cities list\n",
    "    if city not in cities:\n",
    "        cities.append(city)\n",
    "\n",
    "# Print the city count to confirm sufficient count\n",
    "len(cities)"
   ]
  },
  {
   "cell_type": "markdown",
   "metadata": {},
   "source": [
    "### Perform API Calls\n",
    "* Perform a weather check on each city using a series of successive API calls.\n",
    "* Include a print log of each city as it'sbeing processed (with the city number and city name).\n"
   ]
  },
  {
   "cell_type": "code",
   "execution_count": 3,
   "metadata": {},
   "outputs": [
    {
     "name": "stdout",
     "output_type": "stream",
     "text": [
      "Processing Record 1 of Set 1 | chuy\n",
      "Processing Record 2 of Set 1 | jamestown\n",
      "Processing Record 3 of Set 1 | bambous virieux\n",
      "Processing Record 4 of Set 1 | butaritari\n",
      "Processing Record 5 of Set 1 | bluff\n",
      "Processing Record 6 of Set 1 | fortuna\n",
      "Processing Record 7 of Set 1 | ambovombe\n",
      "Processing Record 8 of Set 1 | hasaki\n",
      "Processing Record 9 of Set 1 | antsohihy\n",
      "Processing Record 10 of Set 1 | provideniya\n",
      "Processing Record 11 of Set 1 | airai\n",
      "Processing Record 12 of Set 1 | albany\n",
      "Processing Record 13 of Set 1 | chokurdakh\n",
      "Processing Record 14 of Set 1 | busselton\n",
      "Processing Record 15 of Set 1 | ilanskiy\n",
      "Processing Record 16 of Set 1 | tezu\n",
      "Processing Record 17 of Set 1 | kapaa\n",
      "Processing Record 18 of Set 1 | cidreira\n",
      "Processing Record 19 of Set 1 | dwarka\n",
      "Processing Record 20 of Set 1 | najran\n",
      "Processing Record 21 of Set 1 | voyvozh\n",
      "Processing Record 22 of Set 1 | luderitz\n",
      "Processing Record 23 of Set 1 | carnarvon\n",
      "Processing Record 24 of Set 1 | ribeira grande\n",
      "Processing Record 25 of Set 1 | yellowknife\n",
      "City not found. Skipping...\n",
      "Processing Record 26 of Set 1 | port macquarie\n",
      "Processing Record 27 of Set 1 | leningradskiy\n",
      "Processing Record 28 of Set 1 | muros\n",
      "City not found. Skipping...\n",
      "Processing Record 29 of Set 1 | vaini\n",
      "Processing Record 30 of Set 1 | vila franca do campo\n",
      "Processing Record 31 of Set 1 | muravlenko\n",
      "Processing Record 32 of Set 1 | rikitea\n",
      "Processing Record 33 of Set 1 | mangai\n",
      "Processing Record 34 of Set 1 | salalah\n",
      "Processing Record 35 of Set 1 | kawalu\n",
      "Processing Record 36 of Set 1 | pisco\n",
      "Processing Record 37 of Set 1 | kavieng\n",
      "Processing Record 38 of Set 1 | hermanus\n",
      "Processing Record 39 of Set 1 | bengkulu\n",
      "City not found. Skipping...\n",
      "Processing Record 40 of Set 1 | antibes\n",
      "Processing Record 41 of Set 1 | mataura\n",
      "City not found. Skipping...\n",
      "Processing Record 42 of Set 1 | bredasdorp\n",
      "City not found. Skipping...\n",
      "Processing Record 43 of Set 1 | aberfoyle\n",
      "Processing Record 44 of Set 1 | punta arenas\n",
      "Processing Record 45 of Set 1 | nanortalik\n",
      "Processing Record 46 of Set 1 | gat\n",
      "Processing Record 47 of Set 1 | sao filipe\n",
      "Processing Record 48 of Set 1 | antalaha\n",
      "Processing Record 49 of Set 1 | naze\n",
      "Processing Record 1 of Set 2 | severomuysk\n",
      "Processing Record 2 of Set 2 | barrow\n",
      "Processing Record 3 of Set 2 | east london\n",
      "Processing Record 4 of Set 2 | ushuaia\n",
      "Processing Record 5 of Set 2 | saint-paul\n",
      "City not found. Skipping...\n",
      "Processing Record 6 of Set 2 | matara\n",
      "Processing Record 7 of Set 2 | miramar\n",
      "Processing Record 8 of Set 2 | pevek\n",
      "Processing Record 9 of Set 2 | perth\n",
      "Processing Record 10 of Set 2 | sembe\n",
      "City not found. Skipping...\n",
      "Processing Record 11 of Set 2 | biltine\n",
      "Processing Record 12 of Set 2 | safaga\n",
      "City not found. Skipping...\n",
      "Processing Record 13 of Set 2 | deputatskiy\n",
      "Processing Record 14 of Set 2 | nueva concepcion\n",
      "Processing Record 15 of Set 2 | lebu\n",
      "Processing Record 16 of Set 2 | port alfred\n",
      "Processing Record 17 of Set 2 | mar del plata\n",
      "Processing Record 18 of Set 2 | torbay\n",
      "Processing Record 19 of Set 2 | poum\n",
      "Processing Record 20 of Set 2 | hobart\n",
      "Processing Record 21 of Set 2 | khatanga\n",
      "Processing Record 22 of Set 2 | kailua\n",
      "Processing Record 23 of Set 2 | sitka\n",
      "Processing Record 24 of Set 2 | atuona\n",
      "City not found. Skipping...\n",
      "Processing Record 25 of Set 2 | churapcha\n",
      "Processing Record 26 of Set 2 | gorontalo\n",
      "Processing Record 27 of Set 2 | coquimbo\n",
      "Processing Record 28 of Set 2 | bambanglipuro\n",
      "Processing Record 29 of Set 2 | avarua\n",
      "Processing Record 30 of Set 2 | tuktoyaktuk\n",
      "Processing Record 31 of Set 2 | grand river south east\n",
      "Processing Record 32 of Set 2 | vokhtoga\n",
      "Processing Record 33 of Set 2 | zapolyarnyy\n",
      "Processing Record 34 of Set 2 | saskylakh\n",
      "Processing Record 35 of Set 2 | yucca valley\n",
      "Processing Record 36 of Set 2 | vardo\n",
      "Processing Record 37 of Set 2 | touros\n",
      "Processing Record 38 of Set 2 | pacific grove\n",
      "Processing Record 39 of Set 2 | castro\n",
      "Processing Record 40 of Set 2 | vestmannaeyjar\n",
      "Processing Record 41 of Set 2 | mogadishu\n",
      "Processing Record 42 of Set 2 | hithadhoo\n",
      "City not found. Skipping...\n",
      "Processing Record 43 of Set 2 | mahebourg\n",
      "Processing Record 44 of Set 2 | champerico\n",
      "Processing Record 45 of Set 2 | burnie\n",
      "Processing Record 46 of Set 2 | sayyan\n",
      "Processing Record 47 of Set 2 | smithers\n",
      "Processing Record 48 of Set 2 | karratha\n",
      "Processing Record 49 of Set 2 | dikson\n",
      "Processing Record 1 of Set 3 | saiha\n",
      "Processing Record 2 of Set 3 | esperance\n",
      "Processing Record 3 of Set 3 | nybro\n",
      "Processing Record 4 of Set 3 | beringovskiy\n",
      "Processing Record 5 of Set 3 | alta floresta\n",
      "Processing Record 6 of Set 3 | cape town\n",
      "Processing Record 7 of Set 3 | lingao\n",
      "Processing Record 8 of Set 3 | new norfolk\n",
      "Processing Record 9 of Set 3 | okhotsk\n",
      "Processing Record 10 of Set 3 | mandalgovi\n",
      "Processing Record 11 of Set 3 | beinamar\n",
      "Processing Record 12 of Set 3 | nhulunbuy\n",
      "Processing Record 13 of Set 3 | nikolskoye\n",
      "Processing Record 14 of Set 3 | thompson\n",
      "Processing Record 15 of Set 3 | namatanai\n",
      "Processing Record 16 of Set 3 | bethel\n",
      "Processing Record 17 of Set 3 | cockburn town\n",
      "Processing Record 18 of Set 3 | georgetown\n",
      "Processing Record 19 of Set 3 | mersing\n",
      "City not found. Skipping...\n",
      "City not found. Skipping...\n",
      "Processing Record 20 of Set 3 | vangaindrano\n",
      "City not found. Skipping...\n",
      "Processing Record 21 of Set 3 | lagoa\n",
      "Processing Record 22 of Set 3 | cayenne\n",
      "Processing Record 23 of Set 3 | tuatapere\n",
      "Processing Record 24 of Set 3 | luwuk\n",
      "Processing Record 25 of Set 3 | port blair\n",
      "Processing Record 26 of Set 3 | skibbereen\n",
      "Processing Record 27 of Set 3 | urumqi\n",
      "Processing Record 28 of Set 3 | arraial do cabo\n",
      "Processing Record 29 of Set 3 | aripuana\n",
      "Processing Record 30 of Set 3 | klaksvik\n",
      "Processing Record 31 of Set 3 | rennes\n",
      "Processing Record 32 of Set 3 | ruy barbosa\n",
      "City not found. Skipping...\n",
      "Processing Record 33 of Set 3 | honjo\n",
      "Processing Record 34 of Set 3 | paragominas\n",
      "Processing Record 35 of Set 3 | at-bashi\n",
      "Processing Record 36 of Set 3 | luanda\n",
      "Processing Record 37 of Set 3 | bandarbeyla\n",
      "Processing Record 38 of Set 3 | margate\n",
      "Processing Record 39 of Set 3 | gillette\n",
      "Processing Record 40 of Set 3 | tongliao\n",
      "Processing Record 41 of Set 3 | shingu\n",
      "Processing Record 42 of Set 3 | kirakira\n",
      "Processing Record 43 of Set 3 | saldanha\n",
      "Processing Record 44 of Set 3 | samarai\n",
      "Processing Record 45 of Set 3 | manacapuru\n",
      "Processing Record 46 of Set 3 | pangkalanbuun\n",
      "Processing Record 47 of Set 3 | raahe\n",
      "Processing Record 48 of Set 3 | amapa\n",
      "Processing Record 49 of Set 3 | san patricio\n",
      "Processing Record 1 of Set 4 | foz\n",
      "Processing Record 2 of Set 4 | narsaq\n",
      "Processing Record 3 of Set 4 | bud\n",
      "Processing Record 4 of Set 4 | cherskiy\n",
      "Processing Record 5 of Set 4 | vakhrushi\n",
      "Processing Record 6 of Set 4 | praia\n",
      "Processing Record 7 of Set 4 | chalmette\n",
      "Processing Record 8 of Set 4 | kruisfontein\n",
      "Processing Record 9 of Set 4 | ponta do sol\n",
      "Processing Record 10 of Set 4 | aykhal\n",
      "Processing Record 11 of Set 4 | lahij\n",
      "Processing Record 12 of Set 4 | vikhorevka\n",
      "Processing Record 13 of Set 4 | beitbridge\n",
      "City not found. Skipping...\n",
      "City not found. Skipping...\n",
      "Processing Record 14 of Set 4 | komsomolskiy\n",
      "Processing Record 15 of Set 4 | natal\n",
      "Processing Record 16 of Set 4 | shahrud\n",
      "Processing Record 17 of Set 4 | arman\n",
      "Processing Record 18 of Set 4 | loa janan\n",
      "Processing Record 19 of Set 4 | russell\n",
      "Processing Record 20 of Set 4 | gravelbourg\n",
      "Processing Record 21 of Set 4 | wajima\n",
      "Processing Record 22 of Set 4 | pemba\n",
      "Processing Record 23 of Set 4 | lugovoy\n",
      "Processing Record 24 of Set 4 | tasiilaq\n",
      "Processing Record 25 of Set 4 | hilo\n",
      "Processing Record 26 of Set 4 | saint-pierre\n",
      "Processing Record 27 of Set 4 | mount gambier\n",
      "Processing Record 28 of Set 4 | kudahuvadhoo\n",
      "Processing Record 29 of Set 4 | killybegs\n",
      "Processing Record 30 of Set 4 | tura\n",
      "Processing Record 31 of Set 4 | bayan\n",
      "Processing Record 32 of Set 4 | kargasok\n",
      "Processing Record 33 of Set 4 | victoria\n",
      "Processing Record 34 of Set 4 | dunedin\n",
      "Processing Record 35 of Set 4 | nome\n",
      "Processing Record 36 of Set 4 | puro\n",
      "City not found. Skipping...\n",
      "Processing Record 37 of Set 4 | upernavik\n",
      "Processing Record 38 of Set 4 | sao paulo de olivenca\n",
      "Processing Record 39 of Set 4 | olafsvik\n",
      "City not found. Skipping...\n",
      "Processing Record 40 of Set 4 | san cristobal\n"
     ]
    },
    {
     "name": "stdout",
     "output_type": "stream",
     "text": [
      "Processing Record 41 of Set 4 | lavrentiya\n",
      "Processing Record 42 of Set 4 | qaanaaq\n",
      "Processing Record 43 of Set 4 | labuhan\n",
      "Processing Record 44 of Set 4 | lamballe\n",
      "Processing Record 45 of Set 4 | beyneu\n",
      "Processing Record 46 of Set 4 | menongue\n",
      "Processing Record 47 of Set 4 | paulo afonso\n",
      "Processing Record 48 of Set 4 | zelenoborsk\n",
      "Processing Record 49 of Set 4 | anar darreh\n",
      "Processing Record 1 of Set 5 | zhangye\n",
      "Processing Record 2 of Set 5 | tyukhtet\n",
      "Processing Record 3 of Set 5 | kapustin yar\n",
      "Processing Record 4 of Set 5 | katsuura\n",
      "Processing Record 5 of Set 5 | carutapera\n",
      "Processing Record 6 of Set 5 | brae\n",
      "Processing Record 7 of Set 5 | puerto ayora\n",
      "City not found. Skipping...\n",
      "Processing Record 8 of Set 5 | husavik\n",
      "Processing Record 9 of Set 5 | hofn\n",
      "Processing Record 10 of Set 5 | caborca\n",
      "Processing Record 11 of Set 5 | kidal\n",
      "Processing Record 12 of Set 5 | talnakh\n",
      "Processing Record 13 of Set 5 | nokaneng\n",
      "Processing Record 14 of Set 5 | faanui\n",
      "Processing Record 15 of Set 5 | necochea\n",
      "Processing Record 16 of Set 5 | narkevychi\n",
      "Processing Record 17 of Set 5 | rocha\n",
      "Processing Record 18 of Set 5 | port hardy\n",
      "Processing Record 19 of Set 5 | progreso\n",
      "Processing Record 20 of Set 5 | lahan\n",
      "Processing Record 21 of Set 5 | kodiak\n",
      "Processing Record 22 of Set 5 | puqi\n",
      "Processing Record 23 of Set 5 | benguela\n",
      "City not found. Skipping...\n",
      "Processing Record 24 of Set 5 | severo-kurilsk\n",
      "Processing Record 25 of Set 5 | houma\n",
      "Processing Record 26 of Set 5 | saint-philippe\n",
      "Processing Record 27 of Set 5 | byron bay\n",
      "Processing Record 28 of Set 5 | biak\n",
      "Processing Record 29 of Set 5 | sorochinsk\n",
      "Processing Record 30 of Set 5 | trat\n",
      "Processing Record 31 of Set 5 | ascension\n",
      "Processing Record 32 of Set 5 | teya\n",
      "Processing Record 33 of Set 5 | ormara\n",
      "Processing Record 34 of Set 5 | sabang\n",
      "Processing Record 35 of Set 5 | koshurnikovo\n",
      "Processing Record 36 of Set 5 | pampa\n",
      "Processing Record 37 of Set 5 | lasa\n",
      "City not found. Skipping...\n",
      "Processing Record 38 of Set 5 | bayanday\n",
      "Processing Record 39 of Set 5 | pemangkat\n",
      "Processing Record 40 of Set 5 | yulara\n",
      "Processing Record 41 of Set 5 | ellisras\n",
      "Processing Record 42 of Set 5 | mao\n",
      "Processing Record 43 of Set 5 | ancud\n",
      "Processing Record 44 of Set 5 | sao joao da barra\n",
      "City not found. Skipping...\n",
      "Processing Record 45 of Set 5 | batagay-alyta\n",
      "Processing Record 46 of Set 5 | cervo\n",
      "Processing Record 47 of Set 5 | aklavik\n",
      "Processing Record 48 of Set 5 | solnechnyy\n",
      "Processing Record 49 of Set 5 | sinnamary\n",
      "Processing Record 1 of Set 6 | kuryk\n",
      "Processing Record 2 of Set 6 | isangel\n",
      "Processing Record 3 of Set 6 | nicolas bravo\n",
      "Processing Record 4 of Set 6 | kloulklubed\n",
      "City not found. Skipping...\n",
      "Processing Record 5 of Set 6 | kalmunai\n",
      "Processing Record 6 of Set 6 | luyang\n",
      "Processing Record 7 of Set 6 | rybachiy\n",
      "Processing Record 8 of Set 6 | lata\n",
      "Processing Record 9 of Set 6 | norman wells\n",
      "Processing Record 10 of Set 6 | jalu\n",
      "Processing Record 11 of Set 6 | ust-nera\n",
      "Processing Record 12 of Set 6 | durban\n",
      "Processing Record 13 of Set 6 | teguise\n",
      "City not found. Skipping...\n",
      "Processing Record 14 of Set 6 | sorong\n",
      "Processing Record 15 of Set 6 | kavaratti\n",
      "Processing Record 16 of Set 6 | tabriz\n",
      "Processing Record 17 of Set 6 | wenatchee\n",
      "Processing Record 18 of Set 6 | merauke\n",
      "Processing Record 19 of Set 6 | port elizabeth\n",
      "Processing Record 20 of Set 6 | caravelas\n",
      "Processing Record 21 of Set 6 | ketchikan\n",
      "Processing Record 22 of Set 6 | hamilton\n",
      "Processing Record 23 of Set 6 | college\n",
      "Processing Record 24 of Set 6 | aswan\n",
      "Processing Record 25 of Set 6 | tiksi\n",
      "Processing Record 26 of Set 6 | riyadh\n",
      "City not found. Skipping...\n",
      "Processing Record 27 of Set 6 | avera\n",
      "Processing Record 28 of Set 6 | doha\n",
      "Processing Record 29 of Set 6 | flinders\n",
      "Processing Record 30 of Set 6 | jashpurnagar\n",
      "Processing Record 31 of Set 6 | gazojak\n",
      "City not found. Skipping...\n",
      "Processing Record 32 of Set 6 | ayr\n",
      "Processing Record 33 of Set 6 | lakes entrance\n",
      "Processing Record 34 of Set 6 | viedma\n",
      "Processing Record 35 of Set 6 | rio grande\n",
      "Processing Record 36 of Set 6 | katherine\n",
      "Processing Record 37 of Set 6 | angoram\n",
      "Processing Record 38 of Set 6 | bereda\n",
      "Processing Record 39 of Set 6 | trairi\n",
      "Processing Record 40 of Set 6 | kenai\n",
      "Processing Record 41 of Set 6 | bathsheba\n",
      "City not found. Skipping...\n",
      "Processing Record 42 of Set 6 | santa fe\n",
      "Processing Record 43 of Set 6 | dire\n",
      "Processing Record 44 of Set 6 | millinocket\n",
      "Processing Record 45 of Set 6 | omsukchan\n",
      "City not found. Skipping...\n",
      "Processing Record 46 of Set 6 | san borja\n",
      "Processing Record 47 of Set 6 | dingle\n",
      "City not found. Skipping...\n",
      "Processing Record 48 of Set 6 | erechim\n",
      "Processing Record 49 of Set 6 | korem\n",
      "Processing Record 1 of Set 7 | khandagayty\n",
      "Processing Record 2 of Set 7 | havoysund\n",
      "Processing Record 3 of Set 7 | serenje\n",
      "Processing Record 4 of Set 7 | martaban\n",
      "Processing Record 5 of Set 7 | bafoulabe\n",
      "Processing Record 6 of Set 7 | camacha\n",
      "Processing Record 7 of Set 7 | leshukonskoye\n",
      "Processing Record 8 of Set 7 | ilulissat\n",
      "Processing Record 9 of Set 7 | falam\n",
      "City not found. Skipping...\n",
      "Processing Record 10 of Set 7 | banda aceh\n",
      "Processing Record 11 of Set 7 | rovaniemi\n",
      "Processing Record 12 of Set 7 | grand-santi\n",
      "Processing Record 13 of Set 7 | haines junction\n",
      "Processing Record 14 of Set 7 | longyearbyen\n",
      "Processing Record 15 of Set 7 | hambantota\n",
      "Processing Record 16 of Set 7 | lompoc\n",
      "Processing Record 17 of Set 7 | saint-francois\n",
      "Processing Record 18 of Set 7 | kismayo\n",
      "Processing Record 19 of Set 7 | west bay\n",
      "Processing Record 20 of Set 7 | kemijarvi\n",
      "Processing Record 21 of Set 7 | asau\n",
      "Processing Record 22 of Set 7 | sur\n",
      "Processing Record 23 of Set 7 | grootfontein\n",
      "Processing Record 24 of Set 7 | egvekinot\n",
      "Processing Record 25 of Set 7 | pitimbu\n",
      "Processing Record 26 of Set 7 | shawville\n",
      "City not found. Skipping...\n",
      "Processing Record 27 of Set 7 | nianzishan\n",
      "Processing Record 28 of Set 7 | laguna\n",
      "Processing Record 29 of Set 7 | akhalgori\n",
      "Processing Record 30 of Set 7 | huayang\n",
      "City not found. Skipping...\n",
      "Processing Record 31 of Set 7 | misratah\n",
      "Processing Record 32 of Set 7 | balkanabat\n",
      "Processing Record 33 of Set 7 | suntar\n",
      "Processing Record 34 of Set 7 | yerbogachen\n",
      "Processing Record 35 of Set 7 | tigil\n",
      "Processing Record 36 of Set 7 | palana\n",
      "Processing Record 37 of Set 7 | calbuco\n",
      "Processing Record 38 of Set 7 | khash\n",
      "Processing Record 39 of Set 7 | hami\n",
      "Processing Record 40 of Set 7 | alice springs\n",
      "Processing Record 41 of Set 7 | dakar\n",
      "Processing Record 42 of Set 7 | linxia\n",
      "Processing Record 43 of Set 7 | nemuro\n",
      "City not found. Skipping...\n",
      "Processing Record 44 of Set 7 | turbat\n",
      "Processing Record 45 of Set 7 | saint-augustin\n",
      "Processing Record 46 of Set 7 | wanning\n",
      "Processing Record 47 of Set 7 | port augusta\n",
      "Processing Record 48 of Set 7 | paracuru\n",
      "Processing Record 49 of Set 7 | jinka\n",
      "Processing Record 1 of Set 8 | saint-leu\n",
      "City not found. Skipping...\n",
      "Processing Record 2 of Set 8 | mys shmidta\n",
      "Processing Record 3 of Set 8 | kirksville\n",
      "Processing Record 4 of Set 8 | mareeba\n",
      "Processing Record 5 of Set 8 | cabo san lucas\n",
      "Processing Record 6 of Set 8 | benjamin hill\n",
      "Processing Record 7 of Set 8 | kaitangata\n",
      "Processing Record 8 of Set 8 | yar-sale\n",
      "Processing Record 9 of Set 8 | oktyabrskiy\n",
      "Processing Record 10 of Set 8 | richards bay\n",
      "Processing Record 11 of Set 8 | dergachi\n",
      "Processing Record 12 of Set 8 | camopi\n",
      "Processing Record 13 of Set 8 | bardiyah\n",
      "Processing Record 14 of Set 8 | tuskegee\n",
      "City not found. Skipping...\n",
      "Processing Record 15 of Set 8 | bani\n",
      "Processing Record 16 of Set 8 | kwekwe\n",
      "Processing Record 17 of Set 8 | xambioa\n",
      "Processing Record 18 of Set 8 | monte santo\n",
      "Processing Record 19 of Set 8 | grindavik\n",
      "Processing Record 20 of Set 8 | zhigansk\n",
      "Processing Record 21 of Set 8 | ixtapa\n",
      "Processing Record 22 of Set 8 | kuah\n",
      "Processing Record 23 of Set 8 | geraldton\n",
      "Processing Record 24 of Set 8 | vila\n",
      "Processing Record 25 of Set 8 | sorland\n",
      "Processing Record 26 of Set 8 | celestun\n",
      "Processing Record 27 of Set 8 | milove\n",
      "City not found. Skipping...\n",
      "Processing Record 28 of Set 8 | tautira\n",
      "Processing Record 29 of Set 8 | proletarsk\n",
      "Processing Record 30 of Set 8 | yambio\n",
      "Processing Record 31 of Set 8 | saint-joseph\n",
      "Processing Record 32 of Set 8 | teguldet\n",
      "City not found. Skipping...\n"
     ]
    },
    {
     "name": "stdout",
     "output_type": "stream",
     "text": [
      "Processing Record 33 of Set 8 | codrington\n",
      "Processing Record 34 of Set 8 | bokaro\n",
      "Processing Record 35 of Set 8 | half moon bay\n",
      "Processing Record 36 of Set 8 | flin flon\n",
      "Processing Record 37 of Set 8 | pineville\n",
      "Processing Record 38 of Set 8 | pochutla\n",
      "Processing Record 39 of Set 8 | petropavlovsk-kamchatskiy\n",
      "Processing Record 40 of Set 8 | faya\n",
      "City not found. Skipping...\n",
      "City not found. Skipping...\n",
      "Processing Record 41 of Set 8 | itarema\n",
      "Processing Record 42 of Set 8 | acajutla\n",
      "Processing Record 43 of Set 8 | guliston\n",
      "City not found. Skipping...\n",
      "Processing Record 44 of Set 8 | souillac\n",
      "Processing Record 45 of Set 8 | biratnagar\n",
      "Processing Record 46 of Set 8 | tjome\n",
      "Processing Record 47 of Set 8 | jurado\n",
      "Processing Record 48 of Set 8 | sompeta\n",
      "Processing Record 49 of Set 8 | tateyama\n",
      "Processing Record 1 of Set 9 | anekal\n",
      "Processing Record 2 of Set 9 | baghdad\n",
      "Processing Record 3 of Set 9 | bindura\n",
      "Processing Record 4 of Set 9 | fort nelson\n",
      "Processing Record 5 of Set 9 | shieli\n",
      "Processing Record 6 of Set 9 | banjar\n",
      "Processing Record 7 of Set 9 | oksfjord\n",
      "Processing Record 8 of Set 9 | kotdwara\n",
      "Processing Record 9 of Set 9 | meulaboh\n",
      "Processing Record 10 of Set 9 | yaan\n",
      "Processing Record 11 of Set 9 | gwadar\n",
      "City not found. Skipping...\n",
      "Processing Record 12 of Set 9 | turukhansk\n",
      "City not found. Skipping...\n",
      "Processing Record 13 of Set 9 | kikwit\n",
      "Processing Record 14 of Set 9 | clyde river\n",
      "Processing Record 15 of Set 9 | black river\n",
      "Processing Record 16 of Set 9 | borogontsy\n",
      "City not found. Skipping...\n",
      "Processing Record 17 of Set 9 | dongli\n",
      "Processing Record 18 of Set 9 | wattegama\n",
      "Processing Record 19 of Set 9 | macaparana\n",
      "Processing Record 20 of Set 9 | niquelandia\n",
      "Processing Record 21 of Set 9 | lavumisa\n",
      "Processing Record 22 of Set 9 | pimenta bueno\n",
      "Processing Record 23 of Set 9 | bagado\n",
      "Processing Record 24 of Set 9 | axim\n",
      "Processing Record 25 of Set 9 | port moresby\n",
      "Processing Record 26 of Set 9 | madimba\n",
      "Processing Record 27 of Set 9 | adrar\n",
      "Processing Record 28 of Set 9 | kathu\n",
      "Processing Record 29 of Set 9 | peniche\n",
      "Processing Record 30 of Set 9 | medea\n",
      "Processing Record 31 of Set 9 | buta\n",
      "Processing Record 32 of Set 9 | puri\n",
      "Processing Record 33 of Set 9 | preobrazheniye\n",
      "Processing Record 34 of Set 9 | monterey\n",
      "Processing Record 35 of Set 9 | baglung\n",
      "Processing Record 36 of Set 9 | manta\n",
      "Processing Record 37 of Set 9 | morondava\n",
      "Processing Record 38 of Set 9 | djambala\n",
      "Processing Record 39 of Set 9 | botou\n",
      "Processing Record 40 of Set 9 | san pedro\n",
      "Processing Record 41 of Set 9 | chilliwack\n",
      "Processing Record 42 of Set 9 | englehart\n",
      "Processing Record 43 of Set 9 | isiolo\n",
      "Processing Record 44 of Set 9 | mackay\n",
      "Processing Record 45 of Set 9 | akhmim\n",
      "Processing Record 46 of Set 9 | eirunepe\n",
      "Processing Record 47 of Set 9 | zheleznodorozhnyy\n",
      "Processing Record 48 of Set 9 | panshi\n",
      "Processing Record 49 of Set 9 | myre\n",
      "Processing Record 1 of Set 10 | ndago\n",
      "Processing Record 2 of Set 10 | mitsamiouli\n",
      "Processing Record 3 of Set 10 | pouembout\n",
      "Processing Record 4 of Set 10 | vao\n",
      "Processing Record 5 of Set 10 | peterhead\n",
      "Processing Record 6 of Set 10 | santo antonio do ica\n",
      "Processing Record 7 of Set 10 | urusha\n",
      "Processing Record 8 of Set 10 | khasan\n",
      "City not found. Skipping...\n",
      "Processing Record 9 of Set 10 | san jeronimo\n",
      "Processing Record 10 of Set 10 | oistins\n",
      "Processing Record 11 of Set 10 | krasnoselkup\n",
      "Processing Record 12 of Set 10 | bundaberg\n",
      "Processing Record 13 of Set 10 | bilibino\n",
      "Processing Record 14 of Set 10 | hurghada\n",
      "Processing Record 15 of Set 10 | ourossogui\n",
      "City not found. Skipping...\n",
      "Processing Record 16 of Set 10 | mtwara\n",
      "Processing Record 17 of Set 10 | bangassou\n",
      "Processing Record 18 of Set 10 | tikapur\n",
      "Processing Record 19 of Set 10 | portland\n",
      "Processing Record 20 of Set 10 | huatulco\n",
      "Processing Record 21 of Set 10 | opuwo\n",
      "Processing Record 22 of Set 10 | iqaluit\n",
      "Processing Record 23 of Set 10 | amot\n",
      "Processing Record 24 of Set 10 | oktyabrskoye\n",
      "Processing Record 25 of Set 10 | boralday\n",
      "Processing Record 26 of Set 10 | zachary\n",
      "Processing Record 27 of Set 10 | sisimiut\n",
      "Processing Record 28 of Set 10 | sioux lookout\n",
      "Processing Record 29 of Set 10 | zafarabad\n",
      "Processing Record 30 of Set 10 | miri\n",
      "Processing Record 31 of Set 10 | tayzhina\n",
      "Processing Record 32 of Set 10 | baneh\n",
      "Processing Record 33 of Set 10 | padang\n",
      "Processing Record 34 of Set 10 | funadhoo\n",
      "Processing Record 35 of Set 10 | maribo\n",
      "Processing Record 36 of Set 10 | takoradi\n",
      "Processing Record 37 of Set 10 | yendi\n",
      "Processing Record 38 of Set 10 | saint-georges\n",
      "Processing Record 39 of Set 10 | amurzet\n",
      "Processing Record 40 of Set 10 | abapo\n",
      "Processing Record 41 of Set 10 | sikandarabad\n",
      "Processing Record 42 of Set 10 | karema\n",
      "Processing Record 43 of Set 10 | pemberton\n",
      "Processing Record 44 of Set 10 | ovalle\n",
      "City not found. Skipping...\n",
      "Processing Record 45 of Set 10 | davidson\n",
      "Processing Record 46 of Set 10 | harper\n",
      "Processing Record 47 of Set 10 | mulege\n",
      "City not found. Skipping...\n",
      "Processing Record 48 of Set 10 | khvalynsk\n",
      "Processing Record 49 of Set 10 | lynn haven\n",
      "Processing Record 1 of Set 11 | emerald\n",
      "Processing Record 2 of Set 11 | bahia honda\n",
      "Processing Record 3 of Set 11 | kahului\n",
      "Processing Record 4 of Set 11 | antofagasta\n",
      "Processing Record 5 of Set 11 | rudbar\n",
      "Processing Record 6 of Set 11 | mandera\n",
      "Processing Record 7 of Set 11 | saku\n",
      "Processing Record 8 of Set 11 | les cayes\n",
      "Processing Record 9 of Set 11 | ulladulla\n",
      "Processing Record 10 of Set 11 | ambilobe\n",
      "Processing Record 11 of Set 11 | belle fourche\n",
      "Processing Record 12 of Set 11 | huescar\n",
      "Processing Record 13 of Set 11 | northam\n",
      "Processing Record 14 of Set 11 | taketa\n",
      "Processing Record 15 of Set 11 | nouakchott\n",
      "Processing Record 16 of Set 11 | neiafu\n",
      "Processing Record 17 of Set 11 | atar\n",
      "Processing Record 18 of Set 11 | taoudenni\n",
      "Processing Record 19 of Set 11 | fukue\n",
      "Processing Record 20 of Set 11 | aksu\n",
      "Processing Record 21 of Set 11 | karpinsk\n",
      "Processing Record 22 of Set 11 | ocala\n",
      "Processing Record 23 of Set 11 | acarau\n",
      "Processing Record 24 of Set 11 | arlit\n",
      "Processing Record 25 of Set 11 | praia da vitoria\n",
      "Processing Record 26 of Set 11 | kenora\n",
      "Processing Record 27 of Set 11 | mehamn\n",
      "Processing Record 28 of Set 11 | lorengau\n",
      "Processing Record 29 of Set 11 | gladstone\n",
      "Processing Record 30 of Set 11 | mabaruma\n",
      "Processing Record 31 of Set 11 | guerrero negro\n",
      "Processing Record 32 of Set 11 | kaeo\n",
      "Processing Record 33 of Set 11 | terney\n",
      "Processing Record 34 of Set 11 | tupik\n",
      "Processing Record 35 of Set 11 | konstantinovka\n",
      "Processing Record 36 of Set 11 | iberia\n",
      "Processing Record 37 of Set 11 | oranjemund\n",
      "Processing Record 38 of Set 11 | san benito\n",
      "Processing Record 39 of Set 11 | qaqortoq\n",
      "Processing Record 40 of Set 11 | coihaique\n",
      "Processing Record 41 of Set 11 | lokosovo\n",
      "Processing Record 42 of Set 11 | gashua\n",
      "Processing Record 43 of Set 11 | zambezi\n",
      "Processing Record 44 of Set 11 | varnamo\n",
      "Processing Record 45 of Set 11 | san fernando\n",
      "Processing Record 46 of Set 11 | blythe\n",
      "Processing Record 47 of Set 11 | imbituba\n",
      "City not found. Skipping...\n",
      "Processing Record 48 of Set 11 | valdosta\n",
      "Processing Record 49 of Set 11 | kasongo\n",
      "City not found. Skipping...\n",
      "Processing Record 1 of Set 12 | hervey bay\n",
      "City not found. Skipping...\n",
      "Processing Record 2 of Set 12 | abu samrah\n",
      "Processing Record 3 of Set 12 | zastron\n",
      "Processing Record 4 of Set 12 | palpa\n",
      "Processing Record 5 of Set 12 | hobyo\n",
      "Processing Record 6 of Set 12 | simpang\n",
      "Processing Record 7 of Set 12 | beira\n",
      "Processing Record 8 of Set 12 | cumbum\n",
      "Processing Record 9 of Set 12 | ola\n",
      "Processing Record 10 of Set 12 | matamoros\n",
      "Processing Record 11 of Set 12 | ekhabi\n",
      "Processing Record 12 of Set 12 | waitati\n",
      "Processing Record 13 of Set 12 | fairbanks\n",
      "Processing Record 14 of Set 12 | freeport\n",
      "Processing Record 15 of Set 12 | kokkola\n",
      "Processing Record 16 of Set 12 | ponta delgada\n",
      "City not found. Skipping...\n",
      "Processing Record 17 of Set 12 | omboue\n",
      "Processing Record 18 of Set 12 | daman\n",
      "Processing Record 19 of Set 12 | mugur-aksy\n",
      "Processing Record 20 of Set 12 | macklin\n",
      "Processing Record 21 of Set 12 | inhambane\n",
      "Processing Record 22 of Set 12 | sao miguel dos campos\n",
      "Processing Record 23 of Set 12 | vyazma\n",
      "Processing Record 24 of Set 12 | tahta\n",
      "Processing Record 25 of Set 12 | bonavista\n"
     ]
    },
    {
     "name": "stdout",
     "output_type": "stream",
     "text": [
      "Processing Record 26 of Set 12 | jurm\n",
      "------------------------------\n",
      "Data Retrieval Complete\n",
      "------------------------------\n"
     ]
    }
   ],
   "source": [
    "# set lists for the dataframe\n",
    "city_two = []\n",
    "cloudinesses = []\n",
    "dates = []\n",
    "humidities = []\n",
    "lats = []\n",
    "lngs = []\n",
    "max_temps = []\n",
    "wind_speeds = []\n",
    "countries = []\n",
    "\n",
    "# set initial count quantities for organization\n",
    "count_one = 0\n",
    "set_one = 1\n",
    "\n",
    "# loops for creating dataframe columns\n",
    "for city in cities:\n",
    "    try:\n",
    "        response = requests.get(query_url + city.replace(\" \",\"&\")).json()\n",
    "        cloudinesses.append(response['clouds']['all'])\n",
    "        countries.append(response['sys']['country'])\n",
    "        dates.append(response['dt'])\n",
    "        humidities.append(response['main']['humidity'])\n",
    "        lats.append(response['coord']['lat'])\n",
    "        lngs.append(response['coord']['lon'])\n",
    "        max_temps.append(response['main']['temp_max'])\n",
    "        wind_speeds.append(response['wind']['speed'])\n",
    "        if count_one > 48:\n",
    "            count_one = 1\n",
    "            set_one += 1\n",
    "            city_two.append(city)\n",
    "        else:\n",
    "            count_one += 1\n",
    "            city_two.append(city)\n",
    "        print(f\"Processing Record {count_one} of Set {set_one} | {city}\")\n",
    "    except Exception:\n",
    "        print(\"City not found. Skipping...\")\n",
    "print(\"------------------------------\\nData Retrieval Complete\\n------------------------------\")"
   ]
  },
  {
   "cell_type": "code",
   "execution_count": null,
   "metadata": {
    "scrolled": true
   },
   "outputs": [],
   "source": []
  },
  {
   "cell_type": "markdown",
   "metadata": {},
   "source": [
    "### Convert Raw Data to DataFrame\n",
    "* Export the city data into a .csv.\n",
    "* Display the DataFrame"
   ]
  },
  {
   "cell_type": "code",
   "execution_count": 12,
   "metadata": {
    "scrolled": true
   },
   "outputs": [
    {
     "data": {
      "text/html": [
       "<div>\n",
       "<style scoped>\n",
       "    .dataframe tbody tr th:only-of-type {\n",
       "        vertical-align: middle;\n",
       "    }\n",
       "\n",
       "    .dataframe tbody tr th {\n",
       "        vertical-align: top;\n",
       "    }\n",
       "\n",
       "    .dataframe thead th {\n",
       "        text-align: right;\n",
       "    }\n",
       "</style>\n",
       "<table border=\"1\" class=\"dataframe\">\n",
       "  <thead>\n",
       "    <tr style=\"text-align: right;\">\n",
       "      <th></th>\n",
       "      <th>City</th>\n",
       "      <th>Latitude</th>\n",
       "      <th>Longitude</th>\n",
       "      <th>Max Temp</th>\n",
       "      <th>Humidity</th>\n",
       "      <th>Cloudiness</th>\n",
       "      <th>Wind Speed</th>\n",
       "      <th>Country</th>\n",
       "      <th>Date</th>\n",
       "    </tr>\n",
       "  </thead>\n",
       "  <tbody>\n",
       "    <tr>\n",
       "      <th>0</th>\n",
       "      <td>chuy</td>\n",
       "      <td>-33.6971</td>\n",
       "      <td>-53.4616</td>\n",
       "      <td>18.56</td>\n",
       "      <td>91</td>\n",
       "      <td>86</td>\n",
       "      <td>2.26</td>\n",
       "      <td>UY</td>\n",
       "      <td>1615870517</td>\n",
       "    </tr>\n",
       "    <tr>\n",
       "      <th>1</th>\n",
       "      <td>jamestown</td>\n",
       "      <td>42.097</td>\n",
       "      <td>-79.2353</td>\n",
       "      <td>1.67</td>\n",
       "      <td>34</td>\n",
       "      <td>40</td>\n",
       "      <td>3.51</td>\n",
       "      <td>US</td>\n",
       "      <td>1615870518</td>\n",
       "    </tr>\n",
       "    <tr>\n",
       "      <th>2</th>\n",
       "      <td>bambous virieux</td>\n",
       "      <td>-20.2567</td>\n",
       "      <td>57.4061</td>\n",
       "      <td>28.89</td>\n",
       "      <td>74</td>\n",
       "      <td>75</td>\n",
       "      <td>5.66</td>\n",
       "      <td>MU</td>\n",
       "      <td>1615870519</td>\n",
       "    </tr>\n",
       "    <tr>\n",
       "      <th>3</th>\n",
       "      <td>butaritari</td>\n",
       "      <td>3.0707</td>\n",
       "      <td>172.79</td>\n",
       "      <td>27.29</td>\n",
       "      <td>79</td>\n",
       "      <td>95</td>\n",
       "      <td>5.99</td>\n",
       "      <td>KI</td>\n",
       "      <td>1615870441</td>\n",
       "    </tr>\n",
       "    <tr>\n",
       "      <th>4</th>\n",
       "      <td>bluff</td>\n",
       "      <td>-46.6</td>\n",
       "      <td>168.333</td>\n",
       "      <td>12.78</td>\n",
       "      <td>67</td>\n",
       "      <td>92</td>\n",
       "      <td>6.71</td>\n",
       "      <td>NZ</td>\n",
       "      <td>1615870520</td>\n",
       "    </tr>\n",
       "  </tbody>\n",
       "</table>\n",
       "</div>"
      ],
      "text/plain": [
       "              City Latitude Longitude Max Temp Humidity Cloudiness Wind Speed  \\\n",
       "0             chuy -33.6971  -53.4616    18.56       91         86       2.26   \n",
       "1        jamestown   42.097  -79.2353     1.67       34         40       3.51   \n",
       "2  bambous virieux -20.2567   57.4061    28.89       74         75       5.66   \n",
       "3       butaritari   3.0707    172.79    27.29       79         95       5.99   \n",
       "4            bluff    -46.6   168.333    12.78       67         92       6.71   \n",
       "\n",
       "  Country        Date  \n",
       "0      UY  1615870517  \n",
       "1      US  1615870518  \n",
       "2      MU  1615870519  \n",
       "3      KI  1615870441  \n",
       "4      NZ  1615870520  "
      ]
     },
     "execution_count": 12,
     "metadata": {},
     "output_type": "execute_result"
    }
   ],
   "source": [
    "weather_dict = {\n",
    "    \"City\": cities,\n",
    "    \"Latitude\": lats,\n",
    "    \"Longitude\": lngs,\n",
    "    \"Max Temp\": max_temps,\n",
    "    \"Humidity\": humidities,\n",
    "    \"Cloudiness\": cloudinesses,\n",
    "    \"Wind Speed\": wind_speeds,\n",
    "    \"Country\":countries,\n",
    "    \"Date\":dates\n",
    "}\n",
    "# Use .transpose function to drop the Nan value \n",
    "weather_data = pd.DataFrame.from_dict(weather_dict,orient='index').transpose()\n",
    "\n",
    "weather_data.head()"
   ]
  },
  {
   "cell_type": "code",
   "execution_count": 13,
   "metadata": {},
   "outputs": [],
   "source": [
    "#Export DataFrame to CSV File\n",
    "weather_data.to_csv(\"weather_data1.csv\")"
   ]
  },
  {
   "cell_type": "code",
   "execution_count": 14,
   "metadata": {},
   "outputs": [
    {
     "data": {
      "text/html": [
       "<div>\n",
       "<style scoped>\n",
       "    .dataframe tbody tr th:only-of-type {\n",
       "        vertical-align: middle;\n",
       "    }\n",
       "\n",
       "    .dataframe tbody tr th {\n",
       "        vertical-align: top;\n",
       "    }\n",
       "\n",
       "    .dataframe thead th {\n",
       "        text-align: right;\n",
       "    }\n",
       "</style>\n",
       "<table border=\"1\" class=\"dataframe\">\n",
       "  <thead>\n",
       "    <tr style=\"text-align: right;\">\n",
       "      <th></th>\n",
       "      <th>Unnamed: 0</th>\n",
       "      <th>City</th>\n",
       "      <th>Latitude</th>\n",
       "      <th>Longitude</th>\n",
       "      <th>Max Temp</th>\n",
       "      <th>Humidity</th>\n",
       "      <th>Cloudiness</th>\n",
       "      <th>Wind Speed</th>\n",
       "      <th>Country</th>\n",
       "      <th>Date</th>\n",
       "    </tr>\n",
       "  </thead>\n",
       "  <tbody>\n",
       "    <tr>\n",
       "      <th>0</th>\n",
       "      <td>0</td>\n",
       "      <td>chuy</td>\n",
       "      <td>-33.6971</td>\n",
       "      <td>-53.4616</td>\n",
       "      <td>18.56</td>\n",
       "      <td>91.0</td>\n",
       "      <td>86.0</td>\n",
       "      <td>2.26</td>\n",
       "      <td>UY</td>\n",
       "      <td>1.615871e+09</td>\n",
       "    </tr>\n",
       "    <tr>\n",
       "      <th>1</th>\n",
       "      <td>1</td>\n",
       "      <td>jamestown</td>\n",
       "      <td>42.0970</td>\n",
       "      <td>-79.2353</td>\n",
       "      <td>1.67</td>\n",
       "      <td>34.0</td>\n",
       "      <td>40.0</td>\n",
       "      <td>3.51</td>\n",
       "      <td>US</td>\n",
       "      <td>1.615871e+09</td>\n",
       "    </tr>\n",
       "    <tr>\n",
       "      <th>2</th>\n",
       "      <td>2</td>\n",
       "      <td>bambous virieux</td>\n",
       "      <td>-20.2567</td>\n",
       "      <td>57.4061</td>\n",
       "      <td>28.89</td>\n",
       "      <td>74.0</td>\n",
       "      <td>75.0</td>\n",
       "      <td>5.66</td>\n",
       "      <td>MU</td>\n",
       "      <td>1.615871e+09</td>\n",
       "    </tr>\n",
       "    <tr>\n",
       "      <th>3</th>\n",
       "      <td>3</td>\n",
       "      <td>butaritari</td>\n",
       "      <td>3.0707</td>\n",
       "      <td>172.7902</td>\n",
       "      <td>27.29</td>\n",
       "      <td>79.0</td>\n",
       "      <td>95.0</td>\n",
       "      <td>5.99</td>\n",
       "      <td>KI</td>\n",
       "      <td>1.615870e+09</td>\n",
       "    </tr>\n",
       "    <tr>\n",
       "      <th>4</th>\n",
       "      <td>4</td>\n",
       "      <td>bluff</td>\n",
       "      <td>-46.6000</td>\n",
       "      <td>168.3333</td>\n",
       "      <td>12.78</td>\n",
       "      <td>67.0</td>\n",
       "      <td>92.0</td>\n",
       "      <td>6.71</td>\n",
       "      <td>NZ</td>\n",
       "      <td>1.615871e+09</td>\n",
       "    </tr>\n",
       "  </tbody>\n",
       "</table>\n",
       "</div>"
      ],
      "text/plain": [
       "   Unnamed: 0             City  Latitude  Longitude  Max Temp  Humidity  \\\n",
       "0           0             chuy  -33.6971   -53.4616     18.56      91.0   \n",
       "1           1        jamestown   42.0970   -79.2353      1.67      34.0   \n",
       "2           2  bambous virieux  -20.2567    57.4061     28.89      74.0   \n",
       "3           3       butaritari    3.0707   172.7902     27.29      79.0   \n",
       "4           4            bluff  -46.6000   168.3333     12.78      67.0   \n",
       "\n",
       "   Cloudiness  Wind Speed Country          Date  \n",
       "0        86.0        2.26      UY  1.615871e+09  \n",
       "1        40.0        3.51      US  1.615871e+09  \n",
       "2        75.0        5.66      MU  1.615871e+09  \n",
       "3        95.0        5.99      KI  1.615870e+09  \n",
       "4        92.0        6.71      NZ  1.615871e+09  "
      ]
     },
     "execution_count": 14,
     "metadata": {},
     "output_type": "execute_result"
    }
   ],
   "source": [
    "cities = pd.read_csv(\"weather_data1.csv\", encoding=\"utf-8\")\n",
    "cities.head()"
   ]
  },
  {
   "cell_type": "code",
   "execution_count": 15,
   "metadata": {},
   "outputs": [
    {
     "data": {
      "text/plain": [
       "Unnamed: 0      int64\n",
       "City           object\n",
       "Latitude      float64\n",
       "Longitude     float64\n",
       "Max Temp      float64\n",
       "Humidity      float64\n",
       "Cloudiness    float64\n",
       "Wind Speed    float64\n",
       "Country        object\n",
       "Date          float64\n",
       "dtype: object"
      ]
     },
     "execution_count": 15,
     "metadata": {},
     "output_type": "execute_result"
    }
   ],
   "source": [
    "cities.dtypes"
   ]
  },
  {
   "cell_type": "code",
   "execution_count": 8,
   "metadata": {},
   "outputs": [],
   "source": []
  },
  {
   "cell_type": "markdown",
   "metadata": {},
   "source": [
    "## Plotting the Data\n",
    "* Use proper labeling of the plots using plot titles (including date of analysis) and axes labels.\n",
    "* Save the plotted figures as .pngs."
   ]
  },
  {
   "cell_type": "markdown",
   "metadata": {},
   "source": [
    "## Latitude vs. Temperature Plot"
   ]
  },
  {
   "cell_type": "code",
   "execution_count": 16,
   "metadata": {
    "scrolled": true
   },
   "outputs": [
    {
     "data": {
      "image/png": "[encoded data removed]",
      "text/plain": [
       "<Figure size 432x288 with 1 Axes>"
      ]
     },
     "metadata": {
      "needs_background": "light"
     },
     "output_type": "display_data"
    }
   ],
   "source": [
    "#Temperature (F) vs. Latitude\n",
    "plt.scatter(cities[\"Latitude\"], cities[\"Max Temp\"], marker=\"o\")\n",
    "\n",
    "# Incorporate the other graph properties\n",
    "plt.title(\"Temperature in World Cities\")\n",
    "plt.ylabel(\"Temperature (Celsius)\")\n",
    "plt.xlabel(\"Latitude\")\n",
    "plt.grid(True)\n",
    "\n",
    "# Save the figure\n",
    "plt.savefig(\"TemperatureInWorldCities.png\")\n",
    "\n",
    "# Show plot\n",
    "plt.show()"
   ]
  },
  {
   "cell_type": "markdown",
   "metadata": {},
   "source": [
    "###### # The code is to plot a scatter plot that shows the relationship between each city's latitude and its' maximum temperature. It can be noticed that when the city is located more close to equator, the higher the tempurature the city gets. "
   ]
  },
  {
   "cell_type": "markdown",
   "metadata": {},
   "source": [
    "## Latitude vs. Humidity Plot"
   ]
  },
  {
   "cell_type": "code",
   "execution_count": 17,
   "metadata": {
    "scrolled": true
   },
   "outputs": [
    {
     "data": {
      "image/png": "[encoded data removed]",
      "text/plain": [
       "<Figure size 432x288 with 1 Axes>"
      ]
     },
     "metadata": {
      "needs_background": "light"
     },
     "output_type": "display_data"
    }
   ],
   "source": [
    "# Build a scatter plot for each data type\n",
    "#Humidity (%) vs. Latitude\n",
    "\n",
    "plt.scatter(cities[\"Latitude\"], cities[\"Humidity\"], marker=\"o\")\n",
    "\n",
    "\n",
    "# Incorporate the other graph properties\n",
    "plt.title(\"Humidity in World Cities\")\n",
    "plt.ylabel(\"Humidity\")\n",
    "plt.xlabel(\"Latitude\")\n",
    "plt.grid(True)\n",
    "\n",
    "# Save the figure\n",
    "plt.savefig(\"HumidityInWorldCities.png\")\n",
    "\n",
    "# Show plot\n",
    "plt.show()"
   ]
  },
  {
   "cell_type": "markdown",
   "metadata": {},
   "source": []
  },
  {
   "cell_type": "markdown",
   "metadata": {},
   "source": [
    "###### # The code is to plot a scatter plot that shows the relationship between each city's latitude and its' humidity. It can be noticed that no matter how close the city is located to the equator, it is hard to tell the humidity would be affected by this reason. We can conclude that distance to equator has little to do with humidity. "
   ]
  },
  {
   "cell_type": "markdown",
   "metadata": {},
   "source": [
    "## Latitude vs. Cloudiness Plot"
   ]
  },
  {
   "cell_type": "code",
   "execution_count": 18,
   "metadata": {
    "scrolled": true
   },
   "outputs": [
    {
     "data": {
      "image/png": "[encoded data removed]",
      "text/plain": [
       "<Figure size 432x288 with 1 Axes>"
      ]
     },
     "metadata": {
      "needs_background": "light"
     },
     "output_type": "display_data"
    }
   ],
   "source": [
    "#Cloudiness (%) vs. Latitude\n",
    "plt.scatter(cities[\"Latitude\"], cities[\"Cloudiness\"], marker=\"o\")\n",
    "\n",
    "\n",
    "# Incorporate the other graph properties\n",
    "plt.title(\"Cloudiness in World Cities\")\n",
    "plt.ylabel(\"Cloudiness\")\n",
    "plt.xlabel(\"Latitude\")\n",
    "plt.grid(True)\n",
    "\n",
    "# Save the figure\n",
    "plt.savefig(\"CloudinessInWorldCities.png\")\n",
    "\n",
    "# Show plot\n",
    "plt.show()"
   ]
  },
  {
   "cell_type": "markdown",
   "metadata": {},
   "source": []
  },
  {
   "cell_type": "markdown",
   "metadata": {},
   "source": [
    "###### # The code is to plot a scatter plot that shows the relationship between each city's latitude and its' cloudiness. It can be noticed that no matter how close the city is located to the equator, it is hard to tell the cloudiness would be affected by this reason. We can conclude that distance to equator has little to do with  cloudiness. "
   ]
  },
  {
   "cell_type": "markdown",
   "metadata": {},
   "source": [
    "## Latitude vs. Wind Speed Plot"
   ]
  },
  {
   "cell_type": "code",
   "execution_count": 19,
   "metadata": {
    "scrolled": true
   },
   "outputs": [
    {
     "data": {
      "image/png": "[encoded data removed]",
      "text/plain": [
       "<Figure size 432x288 with 1 Axes>"
      ]
     },
     "metadata": {
      "needs_background": "light"
     },
     "output_type": "display_data"
    }
   ],
   "source": [
    "#Wind Speed (mph) vs. Latitude\n",
    "\n",
    "plt.scatter(cities[\"Latitude\"], cities[\"Wind Speed\"], marker=\"o\")\n",
    "\n",
    "\n",
    "# Incorporate the other graph properties\n",
    "plt.title(\"Wind Speed in World Cities\")\n",
    "plt.ylabel(\"Wind Speed (mph)\")\n",
    "plt.xlabel(\"Latitude\")\n",
    "plt.grid(True)\n",
    "\n",
    "# Save the figure\n",
    "plt.savefig(\"Wind SpeedInWorldCities.png\")\n",
    "\n",
    "# Show plot\n",
    "plt.show()"
   ]
  },
  {
   "cell_type": "markdown",
   "metadata": {},
   "source": [
    "###### # The code is to plot a scatter plot that shows the relationship between each city's latitude and its' wind speed. It can be noticed that no matter how close the city is located to the equator, it is hard to tell strong wind speed can be observed. We can conclude that distance to equator has little to do with wind speed it is more euqally distributed over the latitude range. "
   ]
  },
  {
   "cell_type": "markdown",
   "metadata": {},
   "source": []
  },
  {
   "cell_type": "markdown",
   "metadata": {},
   "source": [
    "## Inspect the data and remove the cities where the humidity > 100%.\n",
    "----\n",
    "Skip this step if there are no cities that have humidity > 100%. "
   ]
  },
  {
   "cell_type": "code",
   "execution_count": 20,
   "metadata": {},
   "outputs": [
    {
     "name": "stdout",
     "output_type": "stream",
     "text": [
      "Empty DataFrame\n",
      "Columns: [Unnamed: 0, City, Latitude, Longitude, Max Temp, Humidity, Cloudiness, Wind Speed, Country, Date]\n",
      "Index: []\n"
     ]
    }
   ],
   "source": [
    "cities[\"Humidity\"].head()\n",
    "\n",
    "\n",
    "over_h = cities.loc[cities[\"Humidity\"] > 100 ]\n",
    "\n",
    "print (over_h)\n"
   ]
  },
  {
   "cell_type": "code",
   "execution_count": null,
   "metadata": {},
   "outputs": [],
   "source": [
    "#  Get the indices of cities that have humidity over 100%.\n"
   ]
  },
  {
   "cell_type": "code",
   "execution_count": null,
   "metadata": {},
   "outputs": [],
   "source": [
    "# Make a new DataFrame equal to the city data to drop all humidity outliers by index.\n",
    "# Passing \"inplace=False\" will make a copy of the city_data DataFrame, which we call \"clean_city_data\".\n"
   ]
  },
  {
   "cell_type": "markdown",
   "metadata": {},
   "source": [
    "## Linear Regression"
   ]
  },
  {
   "cell_type": "markdown",
   "metadata": {},
   "source": [
    "Your second requirement is to run linear regression on each relationship, only this time separating them into Northern Hemisphere (greater than or equal to 0 degrees latitude) and Southern Hemisphere (less than 0 degrees latitude):"
   ]
  },
  {
   "cell_type": "code",
   "execution_count": null,
   "metadata": {},
   "outputs": [],
   "source": []
  },
  {
   "cell_type": "code",
   "execution_count": 21,
   "metadata": {
    "scrolled": true
   },
   "outputs": [
    {
     "name": "stdout",
     "output_type": "stream",
     "text": [
      "     Unnamed: 0              City  Latitude  Longitude  Max Temp  Humidity  \\\n",
      "1             1         jamestown   42.0970   -79.2353      1.67      34.0   \n",
      "3             3        butaritari    3.0707   172.7902     27.29      79.0   \n",
      "5             5           fortuna   40.5982  -124.1573      7.22      87.0   \n",
      "7             7            hasaki   35.7333   140.8333     21.11      40.0   \n",
      "9             9       provideniya   64.3833  -173.3000    -12.00      72.0   \n",
      "..          ...               ...       ...        ...       ...       ...   \n",
      "560         560             arlit   20.5113    76.2129     32.32      14.0   \n",
      "561         561  praia da vitoria   55.2104    34.2951     -2.17      91.0   \n",
      "562         562            kenora   26.7693    31.5021     14.00      88.0   \n",
      "563         563            mehamn   48.6499   -53.1147     -5.00      93.0   \n",
      "564         564          lorengau   36.8648    70.8342      8.00      49.0   \n",
      "\n",
      "     Cloudiness  Wind Speed Country          Date  \n",
      "1          40.0        3.51      US  1.615871e+09  \n",
      "3          95.0        5.99      KI  1.615870e+09  \n",
      "5          75.0        5.66      US  1.615871e+09  \n",
      "7          75.0        7.72      JP  1.615870e+09  \n",
      "9          75.0        2.00      RU  1.615870e+09  \n",
      "..          ...         ...     ...           ...  \n",
      "560         0.0        3.15      IN  1.615871e+09  \n",
      "561       100.0        1.90      RU  1.615871e+09  \n",
      "562         0.0        4.63      EG  1.615871e+09  \n",
      "563       100.0        2.06      CA  1.615871e+09  \n",
      "564        98.0        2.30      AF  1.615871e+09  \n",
      "\n",
      "[406 rows x 10 columns]\n"
     ]
    }
   ],
   "source": [
    "# convert the data type to float \n",
    "Northern_Hemisphere = cities.loc[cities[\"Latitude\"]>= 0,:]\n",
    "\n",
    "\n",
    "#Northern_Hemisphere.reset_index(inplace=True)\n",
    "print (Northern_Hemisphere)"
   ]
  },
  {
   "cell_type": "code",
   "execution_count": 22,
   "metadata": {
    "scrolled": true
   },
   "outputs": [
    {
     "data": {
      "text/plain": [
       "Unnamed: 0      int64\n",
       "City           object\n",
       "Latitude      float64\n",
       "Longitude     float64\n",
       "Max Temp      float64\n",
       "Humidity      float64\n",
       "Cloudiness    float64\n",
       "Wind Speed    float64\n",
       "Country        object\n",
       "Date          float64\n",
       "dtype: object"
      ]
     },
     "execution_count": 22,
     "metadata": {},
     "output_type": "execute_result"
    }
   ],
   "source": [
    "Northern_Hemisphere.dtypes"
   ]
  },
  {
   "cell_type": "markdown",
   "metadata": {},
   "source": [
    "####  Northern Hemisphere - Max Temp vs. Latitude Linear Regression"
   ]
  },
  {
   "cell_type": "code",
   "execution_count": 24,
   "metadata": {},
   "outputs": [
    {
     "data": {
      "image/png": "[encoded data removed]",
      "text/plain": [
       "<Figure size 432x288 with 1 Axes>"
      ]
     },
     "metadata": {
      "needs_background": "light"
     },
     "output_type": "display_data"
    }
   ],
   "source": [
    "#Temperature (F) vs. Latitude\n",
    "\n",
    "# Print out the r-squared value along with the plot.\n",
    "x_values = Northern_Hemisphere[\"Latitude\"] \n",
    "y_values = Northern_Hemisphere[\"Max Temp\"]\n",
    "plt.scatter(x_values,y_values, marker=\"o\")\n",
    "(slope, intercept, rvalue, pvalue, stderr) = linregress(x_values, y_values)\n",
    "regress_values = x_values * slope + intercept\n",
    "line_eq = \"y = \" + str(round(slope,2)) + \"x + \" + str(round(intercept,2))\n",
    "\n",
    "plt.plot(x_values,regress_values,\"r-\")\n",
    "plt.annotate(line_eq,(0, -20),fontsize=15,color=\"red\")\n",
    "plt.title(\"Temperature in World Cities\")\n",
    "plt.ylabel(\"Temperature (Celsius)\")\n",
    "plt.xlabel(\"Latitude\")\n",
    "plt.grid(True)\n",
    "\n",
    "#print(f\"The r-squared is: {rvalue**2}\")\n",
    "\n",
    "# Save the figure\n",
    "plt.savefig(\"TemperatureInWorldCities1.png\")\n",
    "\n",
    "# Show plot\n",
    "plt.show()"
   ]
  },
  {
   "cell_type": "markdown",
   "metadata": {},
   "source": [
    "####  Southern Hemisphere - Max Temp vs. Latitude Linear Regression"
   ]
  },
  {
   "cell_type": "code",
   "execution_count": 25,
   "metadata": {},
   "outputs": [],
   "source": [
    "Southern_Hemisphere = cities.loc[cities[\"Latitude\"]< 0,:]\n"
   ]
  },
  {
   "cell_type": "code",
   "execution_count": 28,
   "metadata": {},
   "outputs": [
    {
     "data": {
      "image/png": "[encoded data removed]",
      "text/plain": [
       "<Figure size 432x288 with 1 Axes>"
      ]
     },
     "metadata": {
      "needs_background": "light"
     },
     "output_type": "display_data"
    }
   ],
   "source": [
    "# Print out the r-squared value along with the plot.\n",
    "x_values = Southern_Hemisphere[\"Latitude\"] \n",
    "y_values = Southern_Hemisphere[\"Max Temp\"]\n",
    "plt.scatter(x_values,y_values, marker=\"o\")\n",
    "(slope, intercept, rvalue, pvalue, stderr) = linregress(x_values, y_values)\n",
    "regress_values = x_values * slope + intercept\n",
    "line_eq = \"y = \" + str(round(slope,2)) + \"x + \" + str(round(intercept,2))\n",
    "\n",
    "plt.plot(x_values,regress_values,\"r-\")\n",
    "plt.annotate(line_eq,(-50, 5),fontsize=15,color=\"red\")\n",
    "plt.title(\"Temperature in World Cities\")\n",
    "plt.ylabel(\"Temperature (Celsius)\")\n",
    "plt.xlabel(\"Latitude\")\n",
    "plt.grid(True)\n",
    "\n",
    "\n",
    "# Save the figure\n",
    "plt.savefig(\"TemperatureInWorldCities2.png\")\n",
    "\n",
    "# Show plot\n",
    "plt.show()"
   ]
  },
  {
   "cell_type": "markdown",
   "metadata": {},
   "source": []
  },
  {
   "cell_type": "markdown",
   "metadata": {},
   "source": [
    "Both plots shows the relationship between Max Temp vs. Latitude in Northern Hemisphere and Southern Hemisphere. A clear linear relationship can be noticed that the closer the city's latitude towards the Equator, the hotter the temperature would get."
   ]
  },
  {
   "cell_type": "markdown",
   "metadata": {},
   "source": [
    "####  Northern Hemisphere - Humidity (%) vs. Latitude Linear Regression"
   ]
  },
  {
   "cell_type": "code",
   "execution_count": 34,
   "metadata": {},
   "outputs": [
    {
     "data": {
      "image/png": "[encoded data removed]",
      "text/plain": [
       "<Figure size 432x288 with 1 Axes>"
      ]
     },
     "metadata": {
      "needs_background": "light"
     },
     "output_type": "display_data"
    }
   ],
   "source": [
    "# Print out the r-squared value along with the plot.\n",
    "x_values = Northern_Hemisphere[\"Latitude\"] \n",
    "y_values = Northern_Hemisphere[\"Humidity\"]\n",
    "plt.scatter(x_values,y_values, marker=\"o\")\n",
    "(slope, intercept, rvalue, pvalue, stderr) = linregress(x_values, y_values)\n",
    "regress_values = x_values * slope + intercept\n",
    "line_eq = \"y = \" + str(round(slope,2)) + \"x + \" + str(round(intercept,2))\n",
    "\n",
    "plt.plot(x_values,regress_values,\"r-\")\n",
    "plt.annotate(line_eq,(50, 40),fontsize=15,color=\"red\")\n",
    "plt.title(\"Humidity in World Cities\")\n",
    "plt.ylabel(\"Humidity\")\n",
    "plt.xlabel(\"Latitude\")\n",
    "plt.grid(True)\n",
    "\n",
    "#print(f\"The r-squared is: {rvalue**2}\")\n",
    "\n",
    "# Save the figure\n",
    "plt.savefig(\"HumidityInWorldCities3.png\")\n",
    "\n",
    "# Show plot\n",
    "plt.show()"
   ]
  },
  {
   "cell_type": "markdown",
   "metadata": {},
   "source": [
    "####  Southern Hemisphere - Humidity (%) vs. Latitude Linear Regression"
   ]
  },
  {
   "cell_type": "code",
   "execution_count": 33,
   "metadata": {},
   "outputs": [
    {
     "data": {
      "image/png": "[encoded data removed]",
      "text/plain": [
       "<Figure size 432x288 with 1 Axes>"
      ]
     },
     "metadata": {
      "needs_background": "light"
     },
     "output_type": "display_data"
    }
   ],
   "source": [
    "# Print out the r-squared value along with the plot.\n",
    "x_values = Southern_Hemisphere[\"Latitude\"] \n",
    "y_values = Southern_Hemisphere[\"Humidity\"]\n",
    "plt.scatter(x_values,y_values, marker=\"o\")\n",
    "(slope, intercept, rvalue, pvalue, stderr) = linregress(x_values, y_values)\n",
    "regress_values = x_values * slope + intercept\n",
    "line_eq = \"y = \" + str(round(slope,2)) + \"x + \" + str(round(intercept,2))\n",
    "\n",
    "plt.plot(x_values,regress_values,\"r-\")\n",
    "plt.annotate(line_eq,(-50, 40),fontsize=15,color=\"red\")\n",
    "plt.title(\"Humidity in World Cities\")\n",
    "plt.ylabel(\"Humidity\")\n",
    "plt.xlabel(\"Latitude\")\n",
    "plt.grid(True)\n",
    "\n",
    "\n",
    "# Save the figure\n",
    "plt.savefig(\"HumidityInWorldCities4.png\")\n",
    "\n",
    "# Show plot\n",
    "plt.show()"
   ]
  },
  {
   "cell_type": "markdown",
   "metadata": {},
   "source": [
    "Both plots shows the relationship between humidity vs. Latitude in Northern Hemisphere and Southern Hemisphere. Less points were gathered around the linear equation which indicated less correlation between the two variables. "
   ]
  },
  {
   "cell_type": "markdown",
   "metadata": {},
   "source": []
  },
  {
   "cell_type": "markdown",
   "metadata": {},
   "source": [
    "####  Northern Hemisphere - Cloudiness (%) vs. Latitude Linear Regression"
   ]
  },
  {
   "cell_type": "code",
   "execution_count": 35,
   "metadata": {},
   "outputs": [
    {
     "data": {
      "image/png": "[encoded data removed]",
      "text/plain": [
       "<Figure size 432x288 with 1 Axes>"
      ]
     },
     "metadata": {
      "needs_background": "light"
     },
     "output_type": "display_data"
    }
   ],
   "source": [
    "# Print out the r-squared value along with the plot.\n",
    "x_values = Northern_Hemisphere[\"Latitude\"] \n",
    "y_values = Northern_Hemisphere[\"Cloudiness\"]\n",
    "plt.scatter(x_values,y_values, marker=\"o\")\n",
    "(slope, intercept, rvalue, pvalue, stderr) = linregress(x_values, y_values)\n",
    "regress_values = x_values * slope + intercept\n",
    "line_eq = \"y = \" + str(round(slope,2)) + \"x + \" + str(round(intercept,2))\n",
    "\n",
    "plt.plot(x_values,regress_values,\"r-\")\n",
    "plt.annotate(line_eq,(50, 40),fontsize=15,color=\"red\")\n",
    "plt.title(\"Cloudiness in World Cities\")\n",
    "plt.ylabel(\"Cloudiness\")\n",
    "plt.xlabel(\"Latitude\")\n",
    "plt.grid(True)\n",
    "\n",
    "#print(f\"The r-squared is: {rvalue**2}\")\n",
    "\n",
    "# Save the figure\n",
    "plt.savefig(\"CloudinessInWorldCitiesN.png\")\n",
    "\n",
    "# Show plot\n",
    "plt.show()"
   ]
  },
  {
   "cell_type": "markdown",
   "metadata": {},
   "source": [
    "####  Southern Hemisphere - Cloudiness (%) vs. Latitude Linear Regression"
   ]
  },
  {
   "cell_type": "code",
   "execution_count": 37,
   "metadata": {},
   "outputs": [
    {
     "data": {
      "image/png": "[encoded data removed]",
      "text/plain": [
       "<Figure size 432x288 with 1 Axes>"
      ]
     },
     "metadata": {
      "needs_background": "light"
     },
     "output_type": "display_data"
    }
   ],
   "source": [
    "# Print out the r-squared value along with the plot.\n",
    "x_values = Southern_Hemisphere[\"Latitude\"] \n",
    "y_values = Southern_Hemisphere[\"Cloudiness\"]\n",
    "plt.scatter(x_values,y_values, marker=\"o\")\n",
    "(slope, intercept, rvalue, pvalue, stderr) = linregress(x_values, y_values)\n",
    "regress_values = x_values * slope + intercept\n",
    "line_eq = \"y = \" + str(round(slope,2)) + \"x + \" + str(round(intercept,2))\n",
    "\n",
    "plt.plot(x_values,regress_values,\"r-\")\n",
    "plt.annotate(line_eq,(-50, 40),fontsize=15,color=\"red\")\n",
    "plt.title(\"Cloudiness  in World Cities\")\n",
    "plt.ylabel(\"Cloudiness\")\n",
    "plt.xlabel(\"Latitude\")\n",
    "plt.grid(True)\n",
    "\n",
    "\n",
    "# Save the figure\n",
    "plt.savefig(\"Cloudiness InWorldCities2.png\")\n",
    "\n",
    "# Show plot\n",
    "plt.show()"
   ]
  },
  {
   "cell_type": "code",
   "execution_count": null,
   "metadata": {},
   "outputs": [],
   "source": [
    "Both plots shows the relationship between cloudiness vs. Latitude in Northern Hemisphere and Southern Hemisphere. Less points were gathered around the linear equation which indicated less correlation between the two variables. "
   ]
  },
  {
   "cell_type": "markdown",
   "metadata": {},
   "source": []
  },
  {
   "cell_type": "markdown",
   "metadata": {},
   "source": [
    "####  Northern Hemisphere - Wind Speed (mph) vs. Latitude Linear Regression"
   ]
  },
  {
   "cell_type": "code",
   "execution_count": 39,
   "metadata": {},
   "outputs": [
    {
     "data": {
      "image/png": "[encoded data removed]",
      "text/plain": [
       "<Figure size 432x288 with 1 Axes>"
      ]
     },
     "metadata": {
      "needs_background": "light"
     },
     "output_type": "display_data"
    }
   ],
   "source": [
    "# Print out the r-squared value along with the plot.\n",
    "x_values = Northern_Hemisphere[\"Latitude\"] \n",
    "y_values = Northern_Hemisphere[\"Wind Speed\"]\n",
    "plt.scatter(x_values,y_values, marker=\"o\")\n",
    "(slope, intercept, rvalue, pvalue, stderr) = linregress(x_values, y_values)\n",
    "regress_values = x_values * slope + intercept\n",
    "line_eq = \"y = \" + str(round(slope,2)) + \"x + \" + str(round(intercept,2))\n",
    "\n",
    "plt.plot(x_values,regress_values,\"r-\")\n",
    "plt.annotate(line_eq,(0, 12),fontsize=15,color=\"red\")\n",
    "plt.title(\"Wind Speed in World Cities\")\n",
    "plt.ylabel(\"Wind Speed\")\n",
    "plt.xlabel(\"Latitude\")\n",
    "plt.grid(True)\n",
    "\n",
    "#print(f\"The r-squared is: {rvalue**2}\")\n",
    "\n",
    "# Save the figure\n",
    "plt.savefig(\"WindSpeedInWorldCitiesN.png\")\n",
    "\n",
    "# Show plot\n",
    "plt.show()"
   ]
  },
  {
   "cell_type": "markdown",
   "metadata": {},
   "source": [
    "####  Southern Hemisphere - Wind Speed (mph) vs. Latitude Linear Regression"
   ]
  },
  {
   "cell_type": "code",
   "execution_count": 2,
   "metadata": {},
   "outputs": [
    {
     "ename": "NameError",
     "evalue": "name 'Southern_Hemisphere' is not defined",
     "output_type": "error",
     "traceback": [
      "\u001b[1;31m---------------------------------------------------------------------------\u001b[0m",
      "\u001b[1;31mNameError\u001b[0m                                 Traceback (most recent call last)",
      "\u001b[1;32m<ipython-input-2-48870298049e>\u001b[0m in \u001b[0;36m<module>\u001b[1;34m\u001b[0m\n\u001b[0;32m      1\u001b[0m \u001b[1;31m# Print out the r-squared value along with the plot.\u001b[0m\u001b[1;33m\u001b[0m\u001b[1;33m\u001b[0m\u001b[1;33m\u001b[0m\u001b[0m\n\u001b[1;32m----> 2\u001b[1;33m \u001b[0mx_values\u001b[0m \u001b[1;33m=\u001b[0m \u001b[0mSouthern_Hemisphere\u001b[0m\u001b[1;33m[\u001b[0m\u001b[1;34m\"Latitude\"\u001b[0m\u001b[1;33m]\u001b[0m\u001b[1;33m\u001b[0m\u001b[1;33m\u001b[0m\u001b[0m\n\u001b[0m\u001b[0;32m      3\u001b[0m \u001b[0my_values\u001b[0m \u001b[1;33m=\u001b[0m \u001b[0mSouthern_Hemisphere\u001b[0m\u001b[1;33m[\u001b[0m\u001b[1;34m\"Wind Speed\"\u001b[0m\u001b[1;33m]\u001b[0m\u001b[1;33m\u001b[0m\u001b[1;33m\u001b[0m\u001b[0m\n\u001b[0;32m      4\u001b[0m \u001b[0mplt\u001b[0m\u001b[1;33m.\u001b[0m\u001b[0mscatter\u001b[0m\u001b[1;33m(\u001b[0m\u001b[0mx_values\u001b[0m\u001b[1;33m,\u001b[0m\u001b[0my_values\u001b[0m\u001b[1;33m,\u001b[0m \u001b[0mmarker\u001b[0m\u001b[1;33m=\u001b[0m\u001b[1;34m\"o\"\u001b[0m\u001b[1;33m)\u001b[0m\u001b[1;33m\u001b[0m\u001b[1;33m\u001b[0m\u001b[0m\n\u001b[0;32m      5\u001b[0m \u001b[1;33m(\u001b[0m\u001b[0mslope\u001b[0m\u001b[1;33m,\u001b[0m \u001b[0mintercept\u001b[0m\u001b[1;33m,\u001b[0m \u001b[0mrvalue\u001b[0m\u001b[1;33m,\u001b[0m \u001b[0mpvalue\u001b[0m\u001b[1;33m,\u001b[0m \u001b[0mstderr\u001b[0m\u001b[1;33m)\u001b[0m \u001b[1;33m=\u001b[0m \u001b[0mlinregress\u001b[0m\u001b[1;33m(\u001b[0m\u001b[0mx_values\u001b[0m\u001b[1;33m,\u001b[0m \u001b[0my_values\u001b[0m\u001b[1;33m)\u001b[0m\u001b[1;33m\u001b[0m\u001b[1;33m\u001b[0m\u001b[0m\n",
      "\u001b[1;31mNameError\u001b[0m: name 'Southern_Hemisphere' is not defined"
     ]
    }
   ],
   "source": [
    "# Print out the r-squared value along with the plot.\n",
    "x_values = Southern_Hemisphere[\"Latitude\"] \n",
    "y_values = Southern_Hemisphere[\"Wind Speed\"]\n",
    "plt.scatter(x_values,y_values, marker=\"o\")\n",
    "(slope, intercept, rvalue, pvalue, stderr) = linregress(x_values, y_values)\n",
    "regress_values = x_values * slope + intercept\n",
    "line_eq = \"y = \" + str(round(slope,2)) + \"x + \" + str(round(intercept,2))\n",
    "\n",
    "plt.plot(x_values,regress_values,\"r-\")\n",
    "plt.annotate(line_eq,(-50, 8),fontsize=15,color=\"red\")\n",
    "plt.title(\"Wind Speed in World Cities\")\n",
    "plt.ylabel(\"Wind Speed\")\n",
    "plt.xlabel(\"Latitude\")\n",
    "plt.grid(True)\n",
    "\n",
    "\n",
    "# Save the figure\n",
    "plt.savefig(\"WindSpeedInWorldCities2.png\")\n",
    "\n",
    "# Show plot\n",
    "plt.show()"
   ]
  },
  {
   "cell_type": "markdown",
   "metadata": {},
   "source": []
  },
  {
   "cell_type": "markdown",
   "metadata": {},
   "source": [
    "Both plots shows the relationship between wind speed vs. Latitude in Northern Hemisphere and Southern Hemisphere. Less points were gathered around the linear equation which indicated less correlation between the two variables. "
   ]
  }
 ],
 "metadata": {
  "anaconda-cloud": {},
  "kernel_info": {
   "name": "python3"
  },
  "kernelspec": {
   "display_name": "Python 3",
   "language": "python",
   "name": "python3"
  },
  "language_info": {
   "codemirror_mode": {
    "name": "ipython",
    "version": 3
   },
   "file_extension": ".py",
   "mimetype": "text/x-python",
   "name": "python",
   "nbconvert_exporter": "python",
   "pygments_lexer": "ipython3",
   "version": "3.6.10"
  },
  "latex_envs": {
   "LaTeX_envs_menu_present": true,
   "autoclose": false,
   "autocomplete": true,
   "bibliofile": "biblio.bib",
   "cite_by": "apalike",
   "current_citInitial": 1,
   "eqLabelWithNumbers": true,
   "eqNumInitial": 1,
   "hotkeys": {
    "equation": "Ctrl-E",
    "itemize": "Ctrl-I"
   },
   "labels_anchors": false,
   "latex_user_defs": false,
   "report_style_numbering": false,
   "user_envs_cfg": false
  },
  "nteract": {
   "version": "0.12.3"
  }
 },
 "nbformat": 4,
 "nbformat_minor": 2
}
